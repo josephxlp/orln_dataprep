{
 "cells": [
  {
   "cell_type": "code",
   "execution_count": 1,
   "metadata": {},
   "outputs": [
    {
     "name": "stderr",
     "output_type": "stream",
     "text": [
      "/home/ljp238/miniconda3/envs/samlidar/lib/python3.9/site-packages/pyproj/__init__.py:95: UserWarning: pyproj unable to set database path.\n",
      "  _pyproj_global_context_initialize()\n"
     ]
    }
   ],
   "source": [
    "import os \n",
    "from glob import glob\n",
    "import pdal \n",
    "import laspy\n",
    "import numpy as np \n",
    "\n",
    "def pdal_quick_info(laz_path):\n",
    "    reader = pdal.Reader(laz_path) # sensitive to resolution, can pass argument here \n",
    "    pipeline = reader.pipeline()\n",
    "    qi = pipeline.quickinfo \n",
    "    return qi,pipeline"
   ]
  },
  {
   "cell_type": "code",
   "execution_count": 2,
   "metadata": {},
   "outputs": [
    {
     "data": {
      "text/plain": [
       "'transectos_tocantins'"
      ]
     },
     "execution_count": 2,
     "metadata": {},
     "output_type": "execute_result"
    }
   ],
   "source": [
    "eba_laz_dir = \"/media/ljp238/12TBWolf/ARCHIEVE/BrazilEBA/POINTCLOUD/comprexn\"\n",
    "eba_tif_dir = \"/media/ljp238/12TBWolf/ARCHIEVE/BrazilEBA/GeoTIFF\"\n",
    "os.makedirs(eba_tif_dir, exist_ok=True)\n",
    "\n",
    "locations = os.listdir(eba_laz_dir)\n",
    "location = locations[-1]\n",
    "location"
   ]
  },
  {
   "cell_type": "code",
   "execution_count": 3,
   "metadata": {},
   "outputs": [],
   "source": [
    "loc_laz_files = glob(f\"{eba_laz_dir}/{location}/*.laz\")\n",
    "loc_tif_dir = f\"{eba_tif_dir}/{location}\"\n",
    "os.makedirs(loc_tif_dir, exist_ok=True)"
   ]
  },
  {
   "cell_type": "code",
   "execution_count": 19,
   "metadata": {},
   "outputs": [
    {
     "data": {
      "text/plain": [
       "('/media/ljp238/12TBWolf/ARCHIEVE/BrazilEBA/POINTCLOUD/comprexn/transectos_tocantins/NP_T-0171.laz',\n",
       " '/media/ljp238/12TBWolf/ARCHIEVE/BrazilEBA/GeoTIFF/transectos_tocantins/NP_T-0171.tif')"
      ]
     },
     "execution_count": 19,
     "metadata": {},
     "output_type": "execute_result"
    }
   ],
   "source": [
    "for laz in loc_laz_files:\n",
    "    btif = os.path.basename(laz).replace('.laz', '.tif')\n",
    "    tif = f\"{loc_tif_dir}/{btif}\"\n",
    "\n",
    "laz,tif"
   ]
  },
  {
   "cell_type": "code",
   "execution_count": 20,
   "metadata": {},
   "outputs": [],
   "source": [
    "# does the data contain class 2, fi so use it"
   ]
  },
  {
   "cell_type": "code",
   "execution_count": 21,
   "metadata": {},
   "outputs": [],
   "source": [
    "q, p = pdal_quick_info(laz)"
   ]
  },
  {
   "cell_type": "code",
   "execution_count": 22,
   "metadata": {},
   "outputs": [],
   "source": [
    "def pdal_pc_classes(pipeline):\n",
    "    pipeline.execute()\n",
    "    arrays = pipeline.arrays\n",
    "    if len(arrays) == 0:\n",
    "        print(\"No point data found in the file.\")\n",
    "    \n",
    "    classification_values = arrays[0]['Classification']\n",
    "    unique_classes = np.unique(classification_values)\n",
    "    print(f\"Unique classifications: {unique_classes}\")\n",
    "    return unique_classes\n",
    "\n",
    "def laspy_pc_classes(laz_path):\n",
    "    las = laspy.read(laz_path)\n",
    "    unique_classes = np.unique(las.classification)\n",
    "    print(f\"Unique classifications: {unique_classes}\")\n",
    "    return unique_classes"
   ]
  },
  {
   "cell_type": "code",
   "execution_count": 23,
   "metadata": {},
   "outputs": [],
   "source": [
    "#pdal_pc_classes(p) # 26s\n",
    "#laspy_pc_classes(laz) # 43s\n"
   ]
  },
  {
   "cell_type": "code",
   "execution_count": 24,
   "metadata": {},
   "outputs": [],
   "source": [
    "q, p = pdal_quick_info(laz)"
   ]
  },
  {
   "cell_type": "code",
   "execution_count": 25,
   "metadata": {},
   "outputs": [],
   "source": [
    "import time "
   ]
  },
  {
   "cell_type": "code",
   "execution_count": null,
   "metadata": {},
   "outputs": [],
   "source": [
    "def generate_dtm(laz, tif, res=10,outfn=\"mean\"):\n",
    "    ti = time.perf_counter()\n",
    "\n",
    "    tif = tif.replace('.tif', f\"_DTM{str(res)}_{outfn}.tif\")\n",
    "\n",
    "    if os.path.isfile(tif):\n",
    "        print(f\"file alredy exist...\\n{tif}\")\n",
    "        return tif \n",
    "    \"\"\"Extracts ground points and generates a DTM.\"\"\"\n",
    "    print(f\"Generating DTM: {laz} \\n-> {tif}\")\n",
    "\n",
    "    pipeline = pdal.Reader(laz)\n",
    "    pipeline |= pdal.Filter.expression(expression=\"Classification == 2\")\n",
    "    pipeline |= pdal.Writer.gdal(\n",
    "        filename=tif, gdalopts=\"tiled=yes, compress=deflate\", nodata=-9999,\n",
    "        output_type=outfn, resolution=res\n",
    "    )\n",
    "    \n",
    "    pipeline.execute()\n",
    "    tf = time.perf_counter() - ti \n",
    "    print(f\"DTM saved to {tif}\")\n",
    "    print(f\"run.time = {tf/60} min(s)\")\n",
    "    return tif"
   ]
  },
  {
   "cell_type": "code",
   "execution_count": 31,
   "metadata": {},
   "outputs": [
    {
     "name": "stdout",
     "output_type": "stream",
     "text": [
      "Generating DTM: /media/ljp238/12TBWolf/ARCHIEVE/BrazilEBA/POINTCLOUD/comprexn/transectos_tocantins/NP_T-0171.laz \n",
      "-> /media/ljp238/12TBWolf/ARCHIEVE/BrazilEBA/GeoTIFF/transectos_tocantins/NP_T-0171_DTM10_min.tif\n",
      "DTM saved to /media/ljp238/12TBWolf/ARCHIEVE/BrazilEBA/GeoTIFF/transectos_tocantins/NP_T-0171_DTM10_min.tif\n",
      "run.time = 0.33909538596635685 min(s)\n"
     ]
    }
   ],
   "source": [
    "laz = '/media/ljp238/12TBWolf/ARCHIEVE/BrazilEBA/POINTCLOUD/comprexn/transectos_tocantins/NP_T-0171.laz'\n",
    "tif = '/media/ljp238/12TBWolf/ARCHIEVE/BrazilEBA/GeoTIFF/transectos_tocantins/NP_T-0171.tif'\n",
    "tif = generate_dtm(laz, tif,res=10,outfn=\"min\")"
   ]
  },
  {
   "cell_type": "code",
   "execution_count": 32,
   "metadata": {},
   "outputs": [
    {
     "name": "stdout",
     "output_type": "stream",
     "text": [
      "Generating DTM: /media/ljp238/12TBWolf/ARCHIEVE/BrazilEBA/POINTCLOUD/comprexn/transectos_tocantins/NP_T-0171.laz \n",
      "-> /media/ljp238/12TBWolf/ARCHIEVE/BrazilEBA/GeoTIFF/transectos_tocantins/NP_T-0171_DTM10_idw.tif\n",
      "DTM saved to /media/ljp238/12TBWolf/ARCHIEVE/BrazilEBA/GeoTIFF/transectos_tocantins/NP_T-0171_DTM10_idw.tif\n",
      "run.time = 0.4485181365496828 min(s)\n"
     ]
    }
   ],
   "source": [
    "laz = '/media/ljp238/12TBWolf/ARCHIEVE/BrazilEBA/POINTCLOUD/comprexn/transectos_tocantins/NP_T-0171.laz'\n",
    "tif = '/media/ljp238/12TBWolf/ARCHIEVE/BrazilEBA/GeoTIFF/transectos_tocantins/NP_T-0171.tif'\n",
    "tif = generate_dtm(laz, tif,res=10,outfn=\"idw\")"
   ]
  },
  {
   "cell_type": "code",
   "execution_count": 33,
   "metadata": {},
   "outputs": [
    {
     "name": "stdout",
     "output_type": "stream",
     "text": [
      "Generating DTM: /media/ljp238/12TBWolf/ARCHIEVE/BrazilEBA/POINTCLOUD/comprexn/transectos_tocantins/NP_T-0171.laz \n",
      "-> /media/ljp238/12TBWolf/ARCHIEVE/BrazilEBA/GeoTIFF/transectos_tocantins/NP_T-0171_DTM10_mean.tif\n",
      "DTM saved to /media/ljp238/12TBWolf/ARCHIEVE/BrazilEBA/GeoTIFF/transectos_tocantins/NP_T-0171_DTM10_mean.tif\n",
      "run.time = 0.3414133377664257 min(s)\n"
     ]
    }
   ],
   "source": [
    "laz = '/media/ljp238/12TBWolf/ARCHIEVE/BrazilEBA/POINTCLOUD/comprexn/transectos_tocantins/NP_T-0171.laz'\n",
    "tif = '/media/ljp238/12TBWolf/ARCHIEVE/BrazilEBA/GeoTIFF/transectos_tocantins/NP_T-0171.tif'\n",
    "tif = generate_dtm(laz, tif,res=10,outfn=\"mean\")"
   ]
  },
  {
   "cell_type": "code",
   "execution_count": 34,
   "metadata": {},
   "outputs": [
    {
     "name": "stdout",
     "output_type": "stream",
     "text": [
      "Generating DTM: /media/ljp238/12TBWolf/ARCHIEVE/BrazilEBA/POINTCLOUD/comprexn/transectos_tocantins/NP_T-0171.laz \n",
      "-> /media/ljp238/12TBWolf/ARCHIEVE/BrazilEBA/GeoTIFF/transectos_tocantins/NP_T-0171_DTM10_max.tif\n",
      "DTM saved to /media/ljp238/12TBWolf/ARCHIEVE/BrazilEBA/GeoTIFF/transectos_tocantins/NP_T-0171_DTM10_max.tif\n",
      "run.time = 0.34538042806671 min(s)\n"
     ]
    }
   ],
   "source": [
    "laz = '/media/ljp238/12TBWolf/ARCHIEVE/BrazilEBA/POINTCLOUD/comprexn/transectos_tocantins/NP_T-0171.laz'\n",
    "tif = '/media/ljp238/12TBWolf/ARCHIEVE/BrazilEBA/GeoTIFF/transectos_tocantins/NP_T-0171.tif'\n",
    "tif = generate_dtm(laz, tif,res=10,outfn=\"max\")"
   ]
  },
  {
   "cell_type": "code",
   "execution_count": 36,
   "metadata": {},
   "outputs": [],
   "source": [
    "# ask Rolf's opition on this - I am going with iwd here. could use max as chm if anything \n",
    "# min is just a line , no much variablility at all\n",
    "# mean is the winner here "
   ]
  },
  {
   "cell_type": "code",
   "execution_count": 39,
   "metadata": {},
   "outputs": [
    {
     "name": "stdout",
     "output_type": "stream",
     "text": [
      "transectos_tocantins: 218.72 MB\n",
      "transectos_para_p5: 659.20 MB\n",
      "transectos_para_p7: 1193.47 MB\n",
      "transectos_para_p6: 1376.32 MB\n",
      "transectos_para_p8: 1575.13 MB\n",
      "transectos_para_p4: 1851.38 MB\n",
      "transectos_acre: 4771.86 MB\n",
      "transectos_maranhao: 4957.41 MB\n",
      "transectos_amapa: 6376.53 MB\n",
      "transectos_roraima: 10531.11 MB\n",
      "transectos_para_p3: 10801.47 MB\n",
      "transectos_para_p2: 12120.47 MB\n",
      "transectos rondonia: 15001.54 MB\n",
      "transectos_mato_grosso: 26008.55 MB\n",
      "transectos_para_p1: 30090.37 MB\n",
      "transectos_amazonas_p2: 33063.28 MB\n",
      "transectos_amazonas_p1: 34049.77 MB\n"
     ]
    }
   ],
   "source": [
    "import os\n",
    "import glob\n",
    "\n",
    "# Define the folder path\n",
    "folder_path = \"/media/ljp238/12TBWolf/ARCHIEVE/BrazilEBA/POINTCLOUD/comprexy\"\n",
    "\n",
    "# Get all zip files in the folder\n",
    "zip_files = glob.glob(os.path.join(folder_path, \"*.zip\"))\n",
    "zip_files = glob.glob(os.path.join(folder_path, \"*.zip\"))\n",
    "\n",
    "# Sort files by size (smallest to largest)\n",
    "sorted_files = sorted(zip_files, key=os.path.getsize)\n",
    "bnames = []\n",
    "# Print sorted file names with sizes\n",
    "for file in sorted_files:\n",
    "    bname = os.path.basename(file)[:-4]\n",
    "    bnames.append(bname)\n",
    "    print(f\"{bname}: {os.path.getsize(file) / (1024 * 1024):.2f} MB\")\n"
   ]
  },
  {
   "cell_type": "code",
   "execution_count": 40,
   "metadata": {},
   "outputs": [
    {
     "data": {
      "text/plain": [
       "['transectos_tocantins',\n",
       " 'transectos_para_p5',\n",
       " 'transectos_para_p7',\n",
       " 'transectos_para_p6',\n",
       " 'transectos_para_p8',\n",
       " 'transectos_para_p4',\n",
       " 'transectos_acre',\n",
       " 'transectos_maranhao',\n",
       " 'transectos_amapa',\n",
       " 'transectos_roraima',\n",
       " 'transectos_para_p3',\n",
       " 'transectos_para_p2',\n",
       " 'transectos rondonia',\n",
       " 'transectos_mato_grosso',\n",
       " 'transectos_para_p1',\n",
       " 'transectos_amazonas_p2',\n",
       " 'transectos_amazonas_p1']"
      ]
     },
     "execution_count": 40,
     "metadata": {},
     "output_type": "execute_result"
    }
   ],
   "source": [
    "bnames"
   ]
  },
  {
   "cell_type": "code",
   "execution_count": null,
   "metadata": {},
   "outputs": [],
   "source": []
  }
 ],
 "metadata": {
  "kernelspec": {
   "display_name": "samlidar",
   "language": "python",
   "name": "python3"
  },
  "language_info": {
   "codemirror_mode": {
    "name": "ipython",
    "version": 3
   },
   "file_extension": ".py",
   "mimetype": "text/x-python",
   "name": "python",
   "nbconvert_exporter": "python",
   "pygments_lexer": "ipython3",
   "version": "3.9.21"
  }
 },
 "nbformat": 4,
 "nbformat_minor": 2
}
