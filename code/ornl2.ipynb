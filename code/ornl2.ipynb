{
 "cells": [
  {
   "cell_type": "code",
   "execution_count": 1,
   "metadata": {},
   "outputs": [],
   "source": [
    "import pandas as pd\n",
    "import numpy as np\n",
    "import matplotlib.pyplot as plt\n",
    "import os \n",
    "from glob import glob"
   ]
  },
  {
   "cell_type": "code",
   "execution_count": 2,
   "metadata": {},
   "outputs": [],
   "source": [
    "file = \"brazil_ornl_lidar_inventory_meta.csv\""
   ]
  },
  {
   "cell_type": "code",
   "execution_count": 3,
   "metadata": {},
   "outputs": [],
   "source": [
    "ornl_laz_dir = \"/media/ljp238/12TBWolf/ARCHIEVE/Brazil_ORNL_laz/\"\n",
    "ornl_laz_files = glob(ornl_laz_dir + \"*.laz\")\n",
    "ornl_tif_dir = \"/media/ljp238/12TBWolf/ARCHIEVE/Brazil_ORNL_tif/laz2tif\"\n",
    "os.makedirs(ornl_tif_dir, exist_ok=True)"
   ]
  },
  {
   "cell_type": "code",
   "execution_count": 4,
   "metadata": {},
   "outputs": [],
   "source": [
    "df = pd.read_csv(file) # write with wtk like usgs code "
   ]
  },
  {
   "cell_type": "code",
   "execution_count": 5,
   "metadata": {},
   "outputs": [
    {
     "data": {
      "text/plain": [
       "filename        3152\n",
       "max_lat         2979\n",
       "min_lat         2961\n",
       "max_lon         3004\n",
       "min_lon         3015\n",
       "file_type          1\n",
       "file_size_mb    3130\n",
       "file_format        1\n",
       "version            3\n",
       "created           90\n",
       "utmzone            6\n",
       "srs                6\n",
       "epsg_code          6\n",
       "match              1\n",
       "fullpath        3152\n",
       "uc                19\n",
       "nuc                7\n",
       "dtype: int64"
      ]
     },
     "execution_count": 5,
     "metadata": {},
     "output_type": "execute_result"
    }
   ],
   "source": [
    "df.nunique()"
   ]
  },
  {
   "cell_type": "code",
   "execution_count": 6,
   "metadata": {},
   "outputs": [
    {
     "data": {
      "text/plain": [
       "7"
      ]
     },
     "execution_count": 6,
     "metadata": {},
     "output_type": "execute_result"
    }
   ],
   "source": [
    "df.nuc.nunique()"
   ]
  },
  {
   "cell_type": "code",
   "execution_count": 7,
   "metadata": {},
   "outputs": [],
   "source": [
    "# utm_to_epsg = {\n",
    "#     '19S': '32719',\n",
    "#     '20S': '32720',\n",
    "#     '21S': '32721',\n",
    "#     '22S': '32722',\n",
    "#     '23S': '32723',\n",
    "#     '24S': '32724'\n",
    "# }\n",
    "\n",
    "# # Add a new column 'epsg_code' by mapping the 'utmzone' values\n",
    "# df['epsg_code'] = df['utmzone'].map(utm_to_epsg)"
   ]
  },
  {
   "cell_type": "code",
   "execution_count": 8,
   "metadata": {},
   "outputs": [],
   "source": [
    "import pandas as pd\n",
    "from io import StringIO\n",
    "\n",
    "data = \"\"\"\n",
    "state,survey_reference_code,utmzone\n",
    "AC,ANT_A01_2011_LiDAR,19S\n",
    "AC,BON_A01_2013_LiDAR,19S\n",
    "AC,HUM_A01_2013_LiDAR,19S\n",
    "AC,RIB_A01_2014_LiDAR,19S\n",
    "AC,TAL_A01_2013_LiDAR,19S\n",
    "AM,BA3_A01_2014_LiDAR,20S\n",
    "AM,BA3_A02_2014_LiDAR,20S\n",
    "AM,BAR_A01_2014_LiDAR,20S\n",
    "AM,DUC_A01_2012_LiDAR,21S\n",
    "AM,DUC_A01_2017_LiDAR,20S\n",
    "AM,ZF2_A01_2017_LiDAR,20S\n",
    "AM,ZF2_A02_2017_LiDAR,20S\n",
    "BA,CON_A01_2015_LiDAR,24S\n",
    "GO,GO1_A01_2014_LiDAR,22S\n",
    "MT,COT_A01_2011_LiDAR,21S\n",
    "MT,FN1_A01_2013_LiDAR,22S\n",
    "MT,FN1_A01_2016_LiDAR,21S\n",
    "MT,FN2_A01_2013_LiDAR,21S\n",
    "MT,FN2_A01_2016_LiDAR,21S\n",
    "MT,FN3_A01_2014_LiDAR,21S\n",
    "MT,FNA_A01_2013_LiDAR,21S\n",
    "MT,FNB_A01_2014_LiDAR,21S\n",
    "MT,FNC_A01_2017_LiDAR,21S\n",
    "MT,FNC_A02_2017_LiDAR,21S\n",
    "MT,FNC_A03_2017_LiDAR,21S\n",
    "MT,FNC_A04_2017_LiDAR,21S\n",
    "MT,FND_A01_2017_LiDAR,21S\n",
    "MT,FND_A02_2017_LiDAR,21S\n",
    "MT,FND_A03_2017_LiDAR,21S\n",
    "MT,TAN_A01_2012_LiDAR,22S\n",
    "MT,TAN_A01_2014_LiDAR,22S\n",
    "MT,FN3_A01_2017_LiDAR,21S\n",
    "PA,ANA_A01_2017_LiDAR,21S\n",
    "PA,AND_A01_2013_LiDAR,23S\n",
    "PA,AND_A01_2017_LiDAR,23S\n",
    "PA,CAU_A01_2017_LiDAR,22S\n",
    "PA,FST_A01_2013_LiDAR,21S\n",
    "PA,PAR_A01_2017_LiDAR,23S\n",
    "PA,PRG_A01_2017_LiDAR,23S\n",
    "PA,SAN_A01_2014_LiDAR,21S\n",
    "PA,SAN_A02_2014_LiDAR,21S\n",
    "PA,SFX_A01_2012_LiDAR,22S\n",
    "PA,SFX_A02_2012_LiDAR,22S\n",
    "PA,ST1_A01_2013_LiDAR,21S\n",
    "PA,ST1_A01_2016_LiDAR,21S\n",
    "PA,ST2_A01_2013_LiDAR,21S\n",
    "PA,ST2_A01_2016_LiDAR,21S\n",
    "PA,ST3_A01_2014_LiDAR,21S\n",
    "PA,ST3_A01_2017_LiDAR,21S\n",
    "PA,TAC_A01_2013_LiDAR,22S\n",
    "PA,TAP_A01_2012_LiDAR,21S\n",
    "PA,TAP_A01_2017_LiDAR,21S\n",
    "PA,TAP_A02_2012_LiDAR,21S\n",
    "PA,TAP_A02_2013_LiDAR,21S\n",
    "PA,TAP_A02_2016_LiDAR,21S\n",
    "PA,TAP_A03_2012_LiDAR,21S\n",
    "PA,TAP_A03_2013_LiDAR,21S\n",
    "PA,TAP_A03_2016_LiDAR,21S\n",
    "RO,JAM_A01_2011_LiDAR,20S\n",
    "RO,JAM_A02_2011_LiDAR,20S\n",
    "RO,JAM_A02_2013_LiDAR,20S\n",
    "RO,JAM_A03_2013_LiDAR,20S\n",
    "SC,CAG_A01_2013_LiDAR,22S\n",
    "SC,MMA_A01_2017_LiDAR,22S\n",
    "SP,CAN_A01_2014_LIDAR,23S\n",
    "SP,CAN_A01_2017_LIDAR,23S\n",
    "SP,CAN_A02_2014_LIDAR,23S\n",
    "SP,CAN_A02_2017_LIDAR,23S\n",
    "SP,SDM_A01_2012_LiDAR,23S\n",
    "SP,SDM_A01_2017_LiDAR,23S\n",
    "\"\"\"\n",
    "\n",
    "d1 = pd.read_csv(StringIO(data))\n"
   ]
  },
  {
   "cell_type": "code",
   "execution_count": 20,
   "metadata": {},
   "outputs": [
    {
     "data": {
      "text/plain": [
       "(3152, 17)"
      ]
     },
     "execution_count": 20,
     "metadata": {},
     "output_type": "execute_result"
    }
   ],
   "source": [
    "df.shape"
   ]
  },
  {
   "cell_type": "code",
   "execution_count": 22,
   "metadata": {},
   "outputs": [],
   "source": [
    "df.to_csv('meta_stateless.csv', index=False)"
   ]
  },
  {
   "cell_type": "code",
   "execution_count": 26,
   "metadata": {},
   "outputs": [
    {
     "name": "stdout",
     "output_type": "stream",
     "text": [
      "3110.5\n"
     ]
    }
   ],
   "source": [
    "ornl_tif_dir = \"/media/ljp238/12TBWolf/ARCHIEVE/Brazil_ORNL_tif/meta_stateless\"\n",
    "fs = glob(f\"{ornl_tif_dir}/*/*.tif\"); print(len(fs)/2)"
   ]
  },
  {
   "cell_type": "code",
   "execution_count": 28,
   "metadata": {},
   "outputs": [
    {
     "data": {
      "text/plain": [
       "42"
      ]
     },
     "execution_count": 28,
     "metadata": {},
     "output_type": "execute_result"
    }
   ],
   "source": [
    "3152 - 3110"
   ]
  },
  {
   "cell_type": "code",
   "execution_count": null,
   "metadata": {},
   "outputs": [],
   "source": []
  },
  {
   "cell_type": "code",
   "execution_count": 23,
   "metadata": {},
   "outputs": [
    {
     "data": {
      "text/plain": [
       "Index(['filename', 'max_lat', 'min_lat', 'max_lon', 'min_lon', 'file_type',\n",
       "       'file_size_mb', 'file_format', 'version', 'created', 'utmzone', 'srs',\n",
       "       'epsg_code', 'match', 'fullpath', 'uc', 'nuc'],\n",
       "      dtype='object')"
      ]
     },
     "execution_count": 23,
     "metadata": {},
     "output_type": "execute_result"
    }
   ],
   "source": [
    "df.columns"
   ]
  },
  {
   "cell_type": "code",
   "execution_count": 10,
   "metadata": {},
   "outputs": [
    {
     "data": {
      "text/plain": [
       "Index(['state', 'survey_reference_code', 'utmzone'], dtype='object')"
      ]
     },
     "execution_count": 10,
     "metadata": {},
     "output_type": "execute_result"
    }
   ],
   "source": [
    "d1.columns  # state, survey_reference_code, utmzone"
   ]
  },
  {
   "cell_type": "code",
   "execution_count": 11,
   "metadata": {},
   "outputs": [],
   "source": [
    "d2 = df.copy()"
   ]
  },
  {
   "cell_type": "code",
   "execution_count": 12,
   "metadata": {},
   "outputs": [
    {
     "data": {
      "text/html": [
       "<div>\n",
       "<style scoped>\n",
       "    .dataframe tbody tr th:only-of-type {\n",
       "        vertical-align: middle;\n",
       "    }\n",
       "\n",
       "    .dataframe tbody tr th {\n",
       "        vertical-align: top;\n",
       "    }\n",
       "\n",
       "    .dataframe thead th {\n",
       "        text-align: right;\n",
       "    }\n",
       "</style>\n",
       "<table border=\"1\" class=\"dataframe\">\n",
       "  <thead>\n",
       "    <tr style=\"text-align: right;\">\n",
       "      <th></th>\n",
       "      <th>state</th>\n",
       "      <th>survey_reference_code</th>\n",
       "      <th>utmzone</th>\n",
       "    </tr>\n",
       "  </thead>\n",
       "  <tbody>\n",
       "    <tr>\n",
       "      <th>0</th>\n",
       "      <td>AC</td>\n",
       "      <td>ANT_A01_2011_LiDAR</td>\n",
       "      <td>19S</td>\n",
       "    </tr>\n",
       "    <tr>\n",
       "      <th>1</th>\n",
       "      <td>AC</td>\n",
       "      <td>BON_A01_2013_LiDAR</td>\n",
       "      <td>19S</td>\n",
       "    </tr>\n",
       "    <tr>\n",
       "      <th>2</th>\n",
       "      <td>AC</td>\n",
       "      <td>HUM_A01_2013_LiDAR</td>\n",
       "      <td>19S</td>\n",
       "    </tr>\n",
       "    <tr>\n",
       "      <th>3</th>\n",
       "      <td>AC</td>\n",
       "      <td>RIB_A01_2014_LiDAR</td>\n",
       "      <td>19S</td>\n",
       "    </tr>\n",
       "    <tr>\n",
       "      <th>4</th>\n",
       "      <td>AC</td>\n",
       "      <td>TAL_A01_2013_LiDAR</td>\n",
       "      <td>19S</td>\n",
       "    </tr>\n",
       "    <tr>\n",
       "      <th>...</th>\n",
       "      <td>...</td>\n",
       "      <td>...</td>\n",
       "      <td>...</td>\n",
       "    </tr>\n",
       "    <tr>\n",
       "      <th>65</th>\n",
       "      <td>SP</td>\n",
       "      <td>CAN_A01_2017_LIDAR</td>\n",
       "      <td>23S</td>\n",
       "    </tr>\n",
       "    <tr>\n",
       "      <th>66</th>\n",
       "      <td>SP</td>\n",
       "      <td>CAN_A02_2014_LIDAR</td>\n",
       "      <td>23S</td>\n",
       "    </tr>\n",
       "    <tr>\n",
       "      <th>67</th>\n",
       "      <td>SP</td>\n",
       "      <td>CAN_A02_2017_LIDAR</td>\n",
       "      <td>23S</td>\n",
       "    </tr>\n",
       "    <tr>\n",
       "      <th>68</th>\n",
       "      <td>SP</td>\n",
       "      <td>SDM_A01_2012_LiDAR</td>\n",
       "      <td>23S</td>\n",
       "    </tr>\n",
       "    <tr>\n",
       "      <th>69</th>\n",
       "      <td>SP</td>\n",
       "      <td>SDM_A01_2017_LiDAR</td>\n",
       "      <td>23S</td>\n",
       "    </tr>\n",
       "  </tbody>\n",
       "</table>\n",
       "<p>70 rows × 3 columns</p>\n",
       "</div>"
      ],
      "text/plain": [
       "   state survey_reference_code utmzone\n",
       "0     AC    ANT_A01_2011_LiDAR     19S\n",
       "1     AC    BON_A01_2013_LiDAR     19S\n",
       "2     AC    HUM_A01_2013_LiDAR     19S\n",
       "3     AC    RIB_A01_2014_LiDAR     19S\n",
       "4     AC    TAL_A01_2013_LiDAR     19S\n",
       "..   ...                   ...     ...\n",
       "65    SP    CAN_A01_2017_LIDAR     23S\n",
       "66    SP    CAN_A02_2014_LIDAR     23S\n",
       "67    SP    CAN_A02_2017_LIDAR     23S\n",
       "68    SP    SDM_A01_2012_LiDAR     23S\n",
       "69    SP    SDM_A01_2017_LiDAR     23S\n",
       "\n",
       "[70 rows x 3 columns]"
      ]
     },
     "execution_count": 12,
     "metadata": {},
     "output_type": "execute_result"
    }
   ],
   "source": [
    "d1"
   ]
  },
  {
   "cell_type": "code",
   "execution_count": 13,
   "metadata": {},
   "outputs": [],
   "source": [
    "d3 = d2.merge(d1[['utmzone', 'state', 'survey_reference_code']], on='utmzone', how='left')\n"
   ]
  },
  {
   "cell_type": "code",
   "execution_count": 19,
   "metadata": {},
   "outputs": [],
   "source": [
    "d3.to_csv(\"meta.csv\", index=False)"
   ]
  },
  {
   "cell_type": "code",
   "execution_count": 14,
   "metadata": {},
   "outputs": [
    {
     "data": {
      "text/plain": [
       "filename                  0\n",
       "max_lat                   0\n",
       "min_lat                   0\n",
       "max_lon                   0\n",
       "min_lon                   0\n",
       "file_type                 0\n",
       "file_size_mb              0\n",
       "file_format               0\n",
       "version                   0\n",
       "created                   0\n",
       "utmzone                   0\n",
       "srs                       0\n",
       "epsg_code                 0\n",
       "match                     0\n",
       "fullpath                  0\n",
       "uc                       68\n",
       "nuc                      68\n",
       "state                     0\n",
       "survey_reference_code     0\n",
       "dtype: int64"
      ]
     },
     "execution_count": 14,
     "metadata": {},
     "output_type": "execute_result"
    }
   ],
   "source": [
    "d3.isna().sum()"
   ]
  },
  {
   "cell_type": "code",
   "execution_count": 15,
   "metadata": {},
   "outputs": [],
   "source": [
    "def convert_to_int_list(uclasses):\n",
    "    \"\"\"\n",
    "    Convert a string or other iterable to a list of integers.\n",
    "\n",
    "    Handles inputs like:\n",
    "    - \"[1 2 3]\"\n",
    "    - \"1 2 3\"\n",
    "    - \"[1,2,3]\"\n",
    "    - \"[1, 2, 3]\"\n",
    "\n",
    "    Parameters:\n",
    "        uclasses (str or iterable): The input to convert.\n",
    "\n",
    "    Returns:\n",
    "        list: A list of integers.\n",
    "    \"\"\"\n",
    "    if isinstance(uclasses, str):\n",
    "        # Remove brackets and replace commas with spaces, then split\n",
    "        uclasses = [int(x) for x in uclasses.replace('[', '').replace(']', '').replace(',', ' ').split()]\n",
    "    else:\n",
    "        # If already iterable, just ensure all elements are integers\n",
    "        uclasses = [int(x) for x in uclasses]\n",
    "\n",
    "    return uclasses"
   ]
  },
  {
   "cell_type": "code",
   "execution_count": 18,
   "metadata": {},
   "outputs": [
    {
     "ename": "ImportError",
     "evalue": "cannot import name 'generate_dtm_by_return' from 'utils' (/home/ljp238/Downloads/brazil_ornl/ORNL/code/utils.py)",
     "output_type": "error",
     "traceback": [
      "\u001b[0;31m---------------------------------------------------------------------------\u001b[0m",
      "\u001b[0;31mImportError\u001b[0m                               Traceback (most recent call last)",
      "Cell \u001b[0;32mIn[18], line 1\u001b[0m\n\u001b[0;32m----> 1\u001b[0m \u001b[38;5;28;01mfrom\u001b[39;00m\u001b[38;5;250m \u001b[39m\u001b[38;5;21;01mutils\u001b[39;00m\u001b[38;5;250m \u001b[39m\u001b[38;5;28;01mimport\u001b[39;00m generate_dtm,generate_dtm_by_return,generate_dsm_by_return\n",
      "\u001b[0;31mImportError\u001b[0m: cannot import name 'generate_dtm_by_return' from 'utils' (/home/ljp238/Downloads/brazil_ornl/ORNL/code/utils.py)"
     ]
    }
   ],
   "source": [
    "from utils import generate_dtm,generate_dtm_by_return,generate_dsm_by_return"
   ]
  },
  {
   "cell_type": "code",
   "execution_count": null,
   "metadata": {},
   "outputs": [
    {
     "name": "stdout",
     "output_type": "stream",
     "text": [
      "[1, 2]\n",
      "Y\n",
      "Generating DTM: /media/ljp238/12TBWolf/ARCHIEVE/Brazil_ORNL_laz/ANA_A01_2017_laz_0.laz \n",
      "-> /media/ljp238/12TBWolf/ARCHIEVE/Brazil_ORNL_tif/laz2tif/AM/ANA_A01_2017_laz_0_DTM10_mean.tif\n",
      "DTM saved to /media/ljp238/12TBWolf/ARCHIEVE/Brazil_ORNL_tif/laz2tif/AM/ANA_A01_2017_laz_0_DTM10_mean.tif\n",
      "run.time = 0.3225114872834335 min(s)\n"
     ]
    }
   ],
   "source": [
    "for i, row in d3.iterrows():\n",
    "    if i > 0:\n",
    "        break\n",
    "    state = row['state']\n",
    "    laz = row['fullpath']\n",
    "    epsgcode = row['epsg_code'] \n",
    "    uclasses = row['uc']\n",
    "    uclasses =  convert_to_int_list(uclasses)\n",
    "    print(uclasses)\n",
    "    loc_dpath = os.path.join(ornl_tif_dir, state)\n",
    "    os.makedirs(loc_dpath, exist_ok=True)\n",
    "    tif = os.path.join(loc_dpath, os.path.basename(laz).replace('.laz', '.tif'))\n",
    "\n",
    "    if 2 in uclasses:\n",
    "        print('Y')\n",
    "        generate_dtm(laz, tif, res=10,outfn=\"mean\", override_srs=epsgcode)\n",
    "        generate_dtm_by_return(laz, tif, res=10, outfn=\"mean\",override_srs=epsgcode)\n",
    "\n",
    "        generate_dsm_by_return(laz, tif, res=10, outfn=\"mean\",override_srs=epsgcode)\n",
    "        generate_dsm_by_return(laz, tif, res=10, outfn=\"max\",override_srs=epsgcode)\n",
    "        \n",
    "    else:\n",
    "        print('N')"
   ]
  },
  {
   "cell_type": "code",
   "execution_count": 39,
   "metadata": {},
   "outputs": [
    {
     "data": {
      "text/plain": [
       "filename                                            ANA_A01_2017_laz_0.laz\n",
       "max_lat                                                          -3.363488\n",
       "min_lat                                                          -3.372548\n",
       "max_lon                                                         -54.992912\n",
       "min_lon                                                         -55.001927\n",
       "file_type                                                       pointcloud\n",
       "file_size_mb                                                     85.374953\n",
       "file_format                                                        LAS/LAZ\n",
       "version                                                                1.2\n",
       "created                                                           214/2017\n",
       "utmzone                                                                21S\n",
       "srs                      +proj=utm +zone=21 +south +ellps=GRS80 +towgs8...\n",
       "epsg_code                                                            32721\n",
       "match                                                                    1\n",
       "fullpath                 /media/ljp238/12TBWolf/ARCHIEVE/Brazil_ORNL_la...\n",
       "uc                                                                   [1 2]\n",
       "nuc                                                                    2.0\n",
       "state                                                                   MT\n",
       "survey_reference_code                                   FNC_A04_2017_LiDAR\n",
       "Name: 11, dtype: object"
      ]
     },
     "execution_count": 39,
     "metadata": {},
     "output_type": "execute_result"
    }
   ],
   "source": [
    "row"
   ]
  },
  {
   "cell_type": "code",
   "execution_count": null,
   "metadata": {},
   "outputs": [],
   "source": []
  }
 ],
 "metadata": {
  "kernelspec": {
   "display_name": "samlidar",
   "language": "python",
   "name": "python3"
  },
  "language_info": {
   "codemirror_mode": {
    "name": "ipython",
    "version": 3
   },
   "file_extension": ".py",
   "mimetype": "text/x-python",
   "name": "python",
   "nbconvert_exporter": "python",
   "pygments_lexer": "ipython3",
   "version": "3.9.21"
  }
 },
 "nbformat": 4,
 "nbformat_minor": 2
}
