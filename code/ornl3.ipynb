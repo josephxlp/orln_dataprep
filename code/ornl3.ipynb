{
 "cells": [
  {
   "cell_type": "code",
   "execution_count": 3,
   "metadata": {},
   "outputs": [],
   "source": [
    "import pandas as pd\n",
    "import numpy as np\n",
    "import matplotlib.pyplot as plt\n",
    "import os \n",
    "from glob import glob\n",
    "import pdal"
   ]
  },
  {
   "cell_type": "code",
   "execution_count": 12,
   "metadata": {},
   "outputs": [],
   "source": [
    "def convert_to_int_list(uclasses):\n",
    "    if isinstance(uclasses, float):\n",
    "        # Wrap single float into a list\n",
    "        uclasses = [uclasses]\n",
    "    elif not isinstance(uclasses, (list, tuple)):\n",
    "        raise TypeError(f\"Expected list or tuple, got {type(uclasses).__name__}\")\n",
    "    \n",
    "    return [int(x) for x in uclasses]\n"
   ]
  },
  {
   "cell_type": "code",
   "execution_count": 13,
   "metadata": {},
   "outputs": [],
   "source": [
    "# def convert_to_int_list(uclasses):\n",
    "#     \"\"\"\n",
    "#     Convert a string or other iterable to a list of integers.\n",
    "\n",
    "#     Handles inputs like:\n",
    "#     - \"[1 2 3]\"\n",
    "#     - \"1 2 3\"\n",
    "#     - \"[1,2,3]\"\n",
    "#     - \"[1, 2, 3]\"\n",
    "\n",
    "#     Parameters:\n",
    "#         uclasses (str or iterable): The input to convert.\n",
    "\n",
    "#     Returns:\n",
    "#         list: A list of integers.\n",
    "#     \"\"\"\n",
    "#     if isinstance(uclasses, str):\n",
    "#         # Remove brackets and replace commas with spaces, then split\n",
    "#         uclasses = [int(x) for x in uclasses.replace('[', '').replace(']', '').replace(',', ' ').split()]\n",
    "#     else:\n",
    "#         # If already iterable, just ensure all elements are integers\n",
    "#         uclasses = [int(x) for x in uclasses]\n",
    "\n",
    "#     return uclasses"
   ]
  },
  {
   "cell_type": "code",
   "execution_count": 14,
   "metadata": {},
   "outputs": [],
   "source": [
    "ornl_laz_dir = \"/media/ljp238/12TBWolf/ARCHIEVE/Brazil_ORNL_laz/\"\n",
    "ornl_laz_files = glob(ornl_laz_dir + \"*.laz\")\n",
    "ornl_tif_dir = \"/media/ljp238/12TBWolf/ARCHIEVE/Brazil_ORNL_tif/laz2tif\"\n",
    "ornl_lazcfl_dir = \"/media/ljp238/12TBWolf/ARCHIEVE/Brazil_ORNL_tif/laz_clf\"\n",
    "os.makedirs(ornl_tif_dir, exist_ok=True)\n",
    "os.makedirs(ornl_lazcfl_dir, exist_ok=True)"
   ]
  },
  {
   "cell_type": "code",
   "execution_count": 15,
   "metadata": {},
   "outputs": [
    {
     "data": {
      "text/plain": [
       "(63178, 19)"
      ]
     },
     "execution_count": 15,
     "metadata": {},
     "output_type": "execute_result"
    }
   ],
   "source": [
    "df = pd.read_csv('meta.csv')\n",
    "df.shape"
   ]
  },
  {
   "cell_type": "code",
   "execution_count": 16,
   "metadata": {},
   "outputs": [],
   "source": [
    "from utils import generate_dtm,generate_dtm_by_return,generate_dsm_by_return,clf_pointcloud"
   ]
  },
  {
   "cell_type": "code",
   "execution_count": 17,
   "metadata": {},
   "outputs": [
    {
     "ename": "TypeError",
     "evalue": "Expected list or tuple, got str",
     "output_type": "error",
     "traceback": [
      "\u001b[0;31m---------------------------------------------------------------------------\u001b[0m",
      "\u001b[0;31mTypeError\u001b[0m                                 Traceback (most recent call last)",
      "Cell \u001b[0;32mIn[17], line 8\u001b[0m\n\u001b[1;32m      6\u001b[0m epsgcode \u001b[38;5;241m=\u001b[39m row[\u001b[38;5;124m'\u001b[39m\u001b[38;5;124mepsg_code\u001b[39m\u001b[38;5;124m'\u001b[39m] \n\u001b[1;32m      7\u001b[0m uclasses \u001b[38;5;241m=\u001b[39m row[\u001b[38;5;124m'\u001b[39m\u001b[38;5;124muc\u001b[39m\u001b[38;5;124m'\u001b[39m]\n\u001b[0;32m----> 8\u001b[0m uclasses \u001b[38;5;241m=\u001b[39m  \u001b[43mconvert_to_int_list\u001b[49m\u001b[43m(\u001b[49m\u001b[43muclasses\u001b[49m\u001b[43m)\u001b[49m\n\u001b[1;32m      9\u001b[0m \u001b[38;5;28mprint\u001b[39m(uclasses)\n\u001b[1;32m     10\u001b[0m loc_dpath \u001b[38;5;241m=\u001b[39m os\u001b[38;5;241m.\u001b[39mpath\u001b[38;5;241m.\u001b[39mjoin(ornl_tif_dir, state)\n",
      "Cell \u001b[0;32mIn[12], line 6\u001b[0m, in \u001b[0;36mconvert_to_int_list\u001b[0;34m(uclasses)\u001b[0m\n\u001b[1;32m      4\u001b[0m     uclasses \u001b[38;5;241m=\u001b[39m [uclasses]\n\u001b[1;32m      5\u001b[0m \u001b[38;5;28;01melif\u001b[39;00m \u001b[38;5;129;01mnot\u001b[39;00m \u001b[38;5;28misinstance\u001b[39m(uclasses, (\u001b[38;5;28mlist\u001b[39m, \u001b[38;5;28mtuple\u001b[39m)):\n\u001b[0;32m----> 6\u001b[0m     \u001b[38;5;28;01mraise\u001b[39;00m \u001b[38;5;167;01mTypeError\u001b[39;00m(\u001b[38;5;124mf\u001b[39m\u001b[38;5;124m\"\u001b[39m\u001b[38;5;124mExpected list or tuple, got \u001b[39m\u001b[38;5;132;01m{\u001b[39;00m\u001b[38;5;28mtype\u001b[39m(uclasses)\u001b[38;5;241m.\u001b[39m\u001b[38;5;18m__name__\u001b[39m\u001b[38;5;132;01m}\u001b[39;00m\u001b[38;5;124m\"\u001b[39m)\n\u001b[1;32m      8\u001b[0m \u001b[38;5;28;01mreturn\u001b[39;00m [\u001b[38;5;28mint\u001b[39m(x) \u001b[38;5;28;01mfor\u001b[39;00m x \u001b[38;5;129;01min\u001b[39;00m uclasses]\n",
      "\u001b[0;31mTypeError\u001b[0m: Expected list or tuple, got str"
     ]
    }
   ],
   "source": [
    "for i, row in df.iterrows():\n",
    "    if i > 0:\n",
    "        break\n",
    "    state = row['state']\n",
    "    laz = row['fullpath']\n",
    "    epsgcode = row['epsg_code'] \n",
    "    uclasses = row['uc']\n",
    "    uclasses =  convert_to_int_list(uclasses)\n",
    "    print(uclasses)\n",
    "    loc_dpath = os.path.join(ornl_tif_dir, state)\n",
    "    os.makedirs(loc_dpath, exist_ok=True)\n",
    "    tif = os.path.join(loc_dpath, os.path.basename(laz).replace('.laz', '.tif'))\n",
    "    lazo = os.path.join(ornl_lazcfl_dir, os.path.basename(laz))\n",
    "\n",
    "    if 2 in uclasses:\n",
    "        print('Y')\n",
    "        #generate_dtm(laz, tif, res=10,outfn=\"mean\", override_srs=epsgcode)\n",
    "        #generate_dsm_by_return(laz, tif, res=10, outfn=\"max\",override_srs=epsgcode)\n",
    "    else:\n",
    "        print('N')\n",
    "        #lazo = clf_pointcloud(laz, lazo, method=\"csf\", a_srs=epsgcode)\n",
    "        #generate_dtm(laz, tif, res=10,outfn=\"mean\", override_srs=epsgcode)\n",
    "        #generate_dsm_by_return(laz, tif, res=10, outfn=\"max\",override_srs=epsgcode)"
   ]
  },
  {
   "cell_type": "code",
   "execution_count": 1,
   "metadata": {},
   "outputs": [],
   "source": [
    "#generate_dtm_by_return(laz, tif, res=10, outfn=\"mean\",override_srs=epsgcode)"
   ]
  },
  {
   "cell_type": "code",
   "execution_count": 26,
   "metadata": {},
   "outputs": [],
   "source": [
    "\n",
    "\n",
    "reader = pdal.Reader(laz) # sensitive to resolution, can pass argument here \n",
    "pipeline = reader.pipeline()\n",
    "\n",
    "pipeline.execute()\n",
    "arrays = pipeline.arrays"
   ]
  },
  {
   "cell_type": "code",
   "execution_count": 27,
   "metadata": {},
   "outputs": [
    {
     "data": {
      "text/plain": [
       "[array([(722998.36, 9627999.97, 238.85, 1, 1, 2, 1, 0, 1, 0, 0, 0, 0, -11., 0,  711, 70143.64070676),\n",
       "        (722998.8 , 9627999.92, 239.17, 1, 1, 2, 1, 0, 1, 0, 0, 0, 0, -11., 0,  711, 70143.64071676),\n",
       "        (722999.1 , 9627999.89, 238.8 , 9, 1, 1, 1, 0, 1, 0, 0, 0, 0, -11., 0,  711, 70143.64072676),\n",
       "        ...,\n",
       "        (722999.71, 9627658.  , 194.41, 1, 3, 3, 1, 0, 1, 0, 0, 0, 0, -25., 0, 2111, 72483.26980085),\n",
       "        (722999.72, 9627658.06, 194.43, 2, 2, 2, 1, 0, 1, 0, 0, 0, 0, -25., 0, 2111, 72483.26981085),\n",
       "        (722999.96, 9627667.62, 192.32, 1, 3, 3, 1, 0, 1, 0, 0, 0, 0, -25., 0, 2111, 72483.27027085)],\n",
       "       dtype=[('X', '<f8'), ('Y', '<f8'), ('Z', '<f8'), ('Intensity', '<u2'), ('ReturnNumber', 'u1'), ('NumberOfReturns', 'u1'), ('ScanDirectionFlag', 'u1'), ('EdgeOfFlightLine', 'u1'), ('Classification', 'u1'), ('Synthetic', 'u1'), ('KeyPoint', 'u1'), ('Withheld', 'u1'), ('Overlap', 'u1'), ('ScanAngleRank', '<f4'), ('UserData', 'u1'), ('PointSourceId', '<u2'), ('GpsTime', '<f8')])]"
      ]
     },
     "execution_count": 27,
     "metadata": {},
     "output_type": "execute_result"
    }
   ],
   "source": [
    "arrays"
   ]
  },
  {
   "cell_type": "code",
   "execution_count": null,
   "metadata": {},
   "outputs": [],
   "source": [
    "df = pd.DataFrame(arrays)"
   ]
  },
  {
   "cell_type": "code",
   "execution_count": null,
   "metadata": {},
   "outputs": [],
   "source": []
  }
 ],
 "metadata": {
  "kernelspec": {
   "display_name": "samlidar",
   "language": "python",
   "name": "python3"
  },
  "language_info": {
   "codemirror_mode": {
    "name": "ipython",
    "version": 3
   },
   "file_extension": ".py",
   "mimetype": "text/x-python",
   "name": "python",
   "nbconvert_exporter": "python",
   "pygments_lexer": "ipython3",
   "version": "3.9.21"
  }
 },
 "nbformat": 4,
 "nbformat_minor": 2
}
